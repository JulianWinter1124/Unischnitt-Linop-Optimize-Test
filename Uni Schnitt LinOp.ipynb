{
 "cells": [
  {
   "cell_type": "code",
   "execution_count": 1,
   "metadata": {
    "ExecuteTime": {
     "end_time": "2022-03-03T14:14:44.083672Z",
     "start_time": "2022-03-03T14:14:44.081025Z"
    }
   },
   "outputs": [],
   "source": [
    "import gurobipy as gp\n",
    "from gurobipy import GRB"
   ]
  },
  {
   "cell_type": "code",
   "execution_count": 2,
   "metadata": {
    "ExecuteTime": {
     "end_time": "2022-03-03T15:40:40.322405Z",
     "start_time": "2022-03-03T15:40:40.319999Z"
    }
   },
   "outputs": [],
   "source": [
    "import cvxpy as cp\n",
    "import cvxpy\n",
    "import numpy as np"
   ]
  },
  {
   "cell_type": "code",
   "execution_count": 3,
   "metadata": {},
   "outputs": [
    {
     "name": "stdout",
     "output_type": "stream",
     "text": [
      "['CVXOPT', 'ECOS', 'ECOS_BB', 'GLPK', 'GLPK_MI', 'GUROBI', 'OSQP', 'SCIPY', 'SCS']\n"
     ]
    }
   ],
   "source": [
    "print(cvxpy.installed_solvers())"
   ]
  },
  {
   "cell_type": "code",
   "execution_count": 4,
   "metadata": {
    "ExecuteTime": {
     "end_time": "2022-03-03T14:14:45.521763Z",
     "start_time": "2022-03-03T14:14:45.516539Z"
    }
   },
   "outputs": [
    {
     "name": "stdout",
     "output_type": "stream",
     "text": [
      "14 14\n",
      "[3, 4, 5, 12, 13] [0, 1, 2, 6, 7, 8, 9, 10, 11, 13]\n"
     ]
    }
   ],
   "source": [
    "w = [3.3, 2.3, 2.3, 3.3, 3.3, 1.7, 1., 1., 1.3, 1.7, 2.3, 2.0, 3.3, 2.3] #grades\n",
    "cps = [ 5,   5,  5,    5,  10,   5,  5,  5,   5,   5,   5,   5,  10,   5] #CPs\n",
    "theo = [3,4,5,12,13] #theoretical CS, course idx \n",
    "prakt = [0, 1, 2, 6, 7, 8, 9, 10, 11, 13] #thechnical CS, course idx \n",
    "print(len(w), len(cps))\n",
    "print(theo, prakt)"
   ]
  },
  {
   "cell_type": "code",
   "execution_count": 6,
   "metadata": {
    "ExecuteTime": {
     "end_time": "2022-03-03T15:40:13.304306Z",
     "start_time": "2022-03-03T15:40:13.291450Z"
    }
   },
   "outputs": [
    {
     "name": "stdout",
     "output_type": "stream",
     "text": [
      "(2*(xs0*3.3*5 + xs1*2.3*5 + xs2*2.3*5 + xs3*3.3*5 + xs4*3.3*10 + xs5*1.7*5 + xs6*1.0*5 + xs7*1.0*5 + xs8*1.3*5 + xs9*1.7*5 + xs10*2.3*5 + xs11*2.0*5 + xs12*3.3*10 + xs13*2.3*5 + 0) /(xs0*5 + xs1*5 + xs2*5 + xs3*5 + xs4*10 + xs5*5 + xs6*5 + xs7*5 + xs8*5 + xs9*5 + xs10*5 + xs11*5 + xs12*10 + xs13*5 + 0) + (xt3*3.3*5 + xt4*3.3*10 + xt5*1.7*5 + xt12*3.3*10 + xt13*2.3*5 + 0) /(xt3*5 + xt4*10 + xt5*5 + xt12*10 + xt13*5 + 0) + (xp0*3.3*5 + xp1*2.3*5 + xp2*2.3*5 + xp6*1.0*5 + xp7*1.0*5 + xp8*1.3*5 + xp9*1.7*5 + xp10*2.3*5 + xp11*2.0*5 + xp13*2.3*5 + 0) / (xp0*5 + xp1*5 + xp2*5 + xp6*5 + xp7*5 + xp8*5 + xp9*5 + xp10*5 + xp11*5 + xp13*5 + 0))/4\n"
     ]
    }
   ],
   "source": [
    "#Grade average calculation\n",
    "#Correct formula but not linear...\n",
    "print('(2*(', end='')\n",
    "for i, note in enumerate(w):\n",
    "    print(f'xs{i}*{note}*{cps[i]} + ', end='')#Main emphasis weight formula\n",
    "print('0) /(', end='')\n",
    "for i, note in enumerate(w):\n",
    "    print(f'xs{i}*{cps[i]} + ', end='')\n",
    "print('0) + ', end='')\n",
    "\n",
    "print('(', end='')\n",
    "for i, note in enumerate(w):\n",
    "    if not i in theo:\n",
    "        continue\n",
    "    print(f'xt{i}*{note}*{cps[i]} + ', end='')#Theo weight formula\n",
    "print('0) /(', end='')\n",
    "for i, note in enumerate(w):\n",
    "    if not i in theo:\n",
    "        continue\n",
    "    print(f'xt{i}*{cps[i]} + ', end='')\n",
    "print('0) + ', end='')\n",
    "    \n",
    "print('(', end='')\n",
    "for i, note in enumerate(w):\n",
    "    if not i in prakt:\n",
    "        continue\n",
    "    print(f'xp{i}*{note}*{cps[i]} + ', end='')#Tech weight formula\n",
    "print('0) / (', end='')\n",
    "for i, note in enumerate(w):\n",
    "    if not i in prakt:\n",
    "        continue\n",
    "    print(f'xp{i}*{cps[i]} + ', end='')\n",
    "print('0))/4')   "
   ]
  },
  {
   "cell_type": "code",
   "execution_count": 7,
   "metadata": {},
   "outputs": [
    {
     "name": "stdout",
     "output_type": "stream",
     "text": [
      "2*(xs0*3.3*5 + xs1*2.3*5 + xs2*2.3*5 + xs3*3.3*5 + xs4*3.3*10 + xs5*1.7*5 + xs6*1.0*5 + xs7*1.0*5 + xs8*1.3*5 + xs9*1.7*5 + xs10*2.3*5 + xs11*2.0*5 + xs12*3.3*10 + xs13*2.3*5 + 0) +(xt3*3.3*5 + xt4*3.3*10 + xt5*1.7*5 + xt12*3.3*10 + xt13*2.3*5 + 0) +(xp0*3.3*5 + xp1*2.3*5 + xp2*2.3*5 + xp6*1.0*5 + xp7*1.0*5 + xp8*1.3*5 + xp9*1.7*5 + xp10*2.3*5 + xp11*2.0*5 + xp13*2.3*5 + 0)"
     ]
    }
   ],
   "source": [
    "#Grade average calculation\n",
    "#Linear but incorrect\n",
    "print('2*(', end='')\n",
    "for i, note in enumerate(w):\n",
    "    print(f'xs{i}*{note}*{cps[i]} + ', end='')\n",
    "print('0) +', end='')\n",
    "\n",
    "print('(', end='')\n",
    "for i, note in enumerate(w):\n",
    "    if not i in theo:\n",
    "        continue\n",
    "    print(f'xt{i}*{note}*{cps[i]} + ', end='')\n",
    "print('0) +', end='')\n",
    "    \n",
    "print('(', end='')\n",
    "for i, note in enumerate(w):\n",
    "    if not i in prakt:\n",
    "        continue\n",
    "    print(f'xp{i}*{note}*{cps[i]} + ', end='')\n",
    "print('0)', end='')"
   ]
  },
  {
   "cell_type": "code",
   "execution_count": 8,
   "metadata": {
    "ExecuteTime": {
     "end_time": "2022-03-03T14:14:48.389174Z",
     "start_time": "2022-03-03T14:14:48.381047Z"
    }
   },
   "outputs": [
    {
     "name": "stdout",
     "output_type": "stream",
     "text": [
      "xs0 + xi0 + xp0 + 0 <= 1\n",
      "xs1 + xi1 + xp1 + 0 <= 1\n",
      "xs2 + xi2 + xp2 + 0 <= 1\n",
      "xs3 + xi3 + xt3 + 0 <= 1\n",
      "xs4 + xi4 + xt4 + 0 <= 1\n",
      "xs5 + xi5 + xt5 + 0 <= 1\n",
      "xs6 + xi6 + xp6 + 0 <= 1\n",
      "xs7 + xi7 + xp7 + 0 <= 1\n",
      "xs8 + xi8 + xp8 + 0 <= 1\n",
      "xs9 + xi9 + xp9 + 0 <= 1\n",
      "xs10 + xi10 + xp10 + 0 <= 1\n",
      "xs11 + xi11 + xp11 + 0 <= 1\n",
      "xs12 + xi12 + xt12 + 0 <= 1\n",
      "xs13 + xi13 + xt13 + xp13 + 0 <= 1\n"
     ]
    }
   ],
   "source": [
    "#constraints\n",
    "#only one variable is 1\n",
    "for i in range(len(w)):\n",
    "    print(f'xs{i} + ', end='')\n",
    "    print(f'xi{i} + ', end='')\n",
    "    if i in theo:\n",
    "        print(f'xt{i} + ', end='')\n",
    "    if i in prakt:\n",
    "        print(f'xp{i} + ', end='')\n",
    "    print(f'0 <= 1')"
   ]
  },
  {
   "cell_type": "code",
   "execution_count": 9,
   "metadata": {
    "ExecuteTime": {
     "end_time": "2022-03-03T14:14:48.583701Z",
     "start_time": "2022-03-03T14:14:48.576610Z"
    }
   },
   "outputs": [
    {
     "name": "stdout",
     "output_type": "stream",
     "text": [
      "xs0*5 + xi0*5 + xp0*5 + xs1*5 + xi1*5 + xp1*5 + xs2*5 + xi2*5 + xp2*5 + xs3*5 + xi3*5 + xt3*5 + xs4*10 + xi4*10 + xt4*10 + xs5*5 + xi5*5 + xt5*5 + xs6*5 + xi6*5 + xp6*5 + xs7*5 + xi7*5 + xp7*5 + xs8*5 + xi8*5 + xp8*5 + xs9*5 + xi9*5 + xp9*5 + xs10*5 + xi10*5 + xp10*5 + xs11*5 + xi11*5 + xp11*5 + xs12*10 + xi12*10 + xt12*10 + xs13*5 + xi13*5 + xt13*5 + xp13*5 + 0 >= 80\n"
     ]
    }
   ],
   "source": [
    "#Select enough cps\n",
    "for i, cpi in enumerate(cps):\n",
    "    print(f'xs{i}*{cpi} + ', end='')\n",
    "    print(f'xi{i}*{cpi} + ', end='')\n",
    "    if i in theo:\n",
    "        print(f'xt{i}*{cpi} + ', end='')\n",
    "    if i in prakt:\n",
    "        print(f'xp{i}*{cpi} + ', end='')\n",
    "print(f'0 >= 80')"
   ]
  },
  {
   "cell_type": "code",
   "execution_count": 10,
   "metadata": {
    "ExecuteTime": {
     "end_time": "2022-03-03T14:14:48.820043Z",
     "start_time": "2022-03-03T14:14:48.811645Z"
    }
   },
   "outputs": [
    {
     "name": "stdout",
     "output_type": "stream",
     "text": [
      "xs0*5 + xs1*5 + xs2*5 + xs3*5 + xs4*10 + xs5*5 + xs6*5 + xs7*5 + xs8*5 + xs9*5 + xs10*5 + xs11*5 + xs12*10 + xs13*5 + 0 >= 30\n",
      "xt3*5 + xt4*10 + xt5*5 + xt12*10 + xt13*5 + 0 >= 15\n",
      "xp0*5 + xp1*5 + xp2*5 + xp6*5 + xp7*5 + xp8*5 + xp9*5 + xp10*5 + xp11*5 + xp13*5 + 0 >= 15\n",
      "xi0*5 + xi1*5 + xi2*5 + xi3*5 + xi4*10 + xi5*5 + xi6*5 + xi7*5 + xi8*5 + xi9*5 + xi10*5 + xi11*5 + xi12*10 + xi13*5 + 0 >= 10\n"
     ]
    }
   ],
   "source": [
    "for i, cpi in enumerate(cps):\n",
    "    print(f'xs{i}*{cpi} + ', end='')\n",
    "print(f'0 >= 30')\n",
    "for i, cpi in enumerate(cps):\n",
    "    if i in theo:\n",
    "        print(f'xt{i}*{cpi} + ', end='')\n",
    "print(f'0 >= 15')\n",
    "for i, cpi in enumerate(cps):\n",
    "    if i in prakt:\n",
    "        print(f'xp{i}*{cpi} + ', end='')\n",
    "print(f'0 >= 15')\n",
    "for i, cpi in enumerate(cps):\n",
    "    print(f'xi{i}*{cpi} + ', end='')\n",
    "print(f'0 >= 10')"
   ]
  },
  {
   "cell_type": "code",
   "execution_count": 11,
   "metadata": {
    "ExecuteTime": {
     "end_time": "2022-03-03T14:14:49.461166Z",
     "start_time": "2022-03-03T14:14:49.454481Z"
    }
   },
   "outputs": [
    {
     "name": "stdout",
     "output_type": "stream",
     "text": [
      "xs0 >= 0,\n",
      "xi0 >= 0,\n",
      "xp0 >= 0,\n",
      "xs1 >= 0,\n",
      "xi1 >= 0,\n",
      "xp1 >= 0,\n",
      "xs2 >= 0,\n",
      "xi2 >= 0,\n",
      "xp2 >= 0,\n",
      "xs3 >= 0,\n",
      "xi3 >= 0,\n",
      "xt3 >= 0,\n",
      "xs4 >= 0,\n",
      "xi4 >= 0,\n",
      "xt4 >= 0,\n",
      "xs5 >= 0,\n",
      "xi5 >= 0,\n",
      "xt5 >= 0,\n",
      "xs6 >= 0,\n",
      "xi6 >= 0,\n",
      "xp6 >= 0,\n",
      "xs7 >= 0,\n",
      "xi7 >= 0,\n",
      "xp7 >= 0,\n",
      "xs8 >= 0,\n",
      "xi8 >= 0,\n",
      "xp8 >= 0,\n",
      "xs9 >= 0,\n",
      "xi9 >= 0,\n",
      "xp9 >= 0,\n",
      "xs10 >= 0,\n",
      "xi10 >= 0,\n",
      "xp10 >= 0,\n",
      "xs11 >= 0,\n",
      "xi11 >= 0,\n",
      "xp11 >= 0,\n",
      "xs12 >= 0,\n",
      "xi12 >= 0,\n",
      "xt12 >= 0,\n",
      "xs13 >= 0,\n",
      "xi13 >= 0,\n",
      "xt13 >= 0,\n",
      "xp13 >= 0,\n"
     ]
    }
   ],
   "source": [
    "for i in range(len(cps)):\n",
    "    print(f'xs{i} >= 0', end=',\\n')    \n",
    "    print(f'xi{i} >= 0', end=',\\n')    \n",
    "    if i in theo:\n",
    "        print(f'xt{i} >= 0', end=',\\n')    \n",
    "    if i in prakt:\n",
    "        print(f'xp{i} >= 0', end=',\\n')"
   ]
  },
  {
   "cell_type": "code",
   "execution_count": 12,
   "metadata": {
    "ExecuteTime": {
     "end_time": "2022-03-03T15:46:32.867360Z",
     "start_time": "2022-03-03T15:46:32.860253Z"
    }
   },
   "outputs": [],
   "source": [
    "for i, note in enumerate(w):\n",
    "    exec(f'xs{i} = cp.Variable(1, boolean=True)')\n",
    "    exec(f'xi{i} = cp.Variable(1, boolean=True)')\n",
    "for i, note in enumerate(w):\n",
    "    if i in theo:\n",
    "        exec(f'xt{i} = cp.Variable(1, boolean=True)')\n",
    "for i, note in enumerate(w):\n",
    "    if i in prakt:\n",
    "        exec(f'xp{i} = cp.Variable(1, boolean=True)')"
   ]
  },
  {
   "cell_type": "code",
   "execution_count": 13,
   "metadata": {
    "ExecuteTime": {
     "end_time": "2022-03-03T15:40:55.085007Z",
     "start_time": "2022-03-03T15:40:55.063051Z"
    }
   },
   "outputs": [],
   "source": [
    "constraints = [\n",
    "xs0 + xi0 + xp0 + 0 == 1,\n",
    "xs1 + xi1 + xp1 + 0 == 1,\n",
    "xs2 + xi2 + xp2 + 0 == 1,\n",
    "xs3 + xi3 + xt3 + 0 == 1,\n",
    "xs4 + xi4 + xt4 + 0 == 1,\n",
    "xs5 + xi5 + xt5 + 0 == 1,\n",
    "xs6 + xi6 + xp6 + 0 == 1,\n",
    "xs7 + xi7 + xp7 + 0 == 1,\n",
    "xs8 + xi8 + xp8 + 0 == 1,\n",
    "xs9 + xi9 + xp9 + 0 == 1,\n",
    "xs10 + xi10 + xp10 + 0 == 1,\n",
    "xs11 + xi11 + xp11 + 0 == 1,\n",
    "xs12 + xi12 + xt12 + 0 == 1,\n",
    "xs13 + xi13 + xt13 + xp13 + 0 == 1,\n",
    "xs0 >= 0,\n",
    "xi0 >= 0,\n",
    "xp0 >= 0,\n",
    "xs1 >= 0,\n",
    "xi1 >= 0,\n",
    "xp1 >= 0,\n",
    "xs2 >= 0,\n",
    "xi2 >= 0,\n",
    "xp2 >= 0,\n",
    "xs3 >= 0,\n",
    "xi3 >= 0,\n",
    "xt3 >= 0,\n",
    "xs4 >= 0,\n",
    "xi4 >= 0,\n",
    "xt4 >= 0,\n",
    "xs5 >= 0,\n",
    "xi5 >= 0,\n",
    "xt5 >= 0,\n",
    "xs6 >= 0,\n",
    "xi6 >= 0,\n",
    "xp6 >= 0,\n",
    "xs7 >= 0,\n",
    "xi7 >= 0,\n",
    "xp7 >= 0,\n",
    "xs8 >= 0,\n",
    "xi8 >= 0,\n",
    "xp8 >= 0,\n",
    "xs9 >= 0,\n",
    "xi9 >= 0,\n",
    "xp9 >= 0,\n",
    "xs10 >= 0,\n",
    "xi10 >= 0,\n",
    "xp10 >= 0,\n",
    "xs11 >= 0,\n",
    "xi11 >= 0,\n",
    "xp11 >= 0,\n",
    "xs12 >= 0,\n",
    "xi12 >= 0,\n",
    "xt12 >= 0,\n",
    "xs13 >= 0,\n",
    "xi13 >= 0,\n",
    "xt13 >= 0,\n",
    "xp13 >= 0,\n",
    "xs0*5 + xi0*5 + xp0*5 + xs1*5 + xi1*5 + xp1*5 + xs2*5 + xi2*5 + xp2*5 + xs3*5 + xi3*5 + xt3*5 + xs4*10 + xi4*10 + xt4*10 + xs5*5 + xi5*5 + xt5*5 + xs6*5 + xi6*5 + xp6*5 + xs7*5 + xi7*5 + xp7*5 + xs8*5 + xi8*5 + xp8*5 + xs9*5 + xi9*5 + xp9*5 + xs10*5 + xi10*5 + xp10*5 + xs11*5 + xi11*5 + xp11*5 + xs12*10 + xi12*10 + xt12*10 + xs13*5 + xi13*5 + xt13*5 + xp13*5 + 0 >= 80,\n",
    "xs0*5 + xs1*5 + xs2*5 + xs3*5 + xs4*10 + xs5*5 + xs6*5 + xs7*5 + xs8*5 + xs9*5 + xs10*5 + xs11*5 + xs12*10 + xs13*5 + 0 >= 30,\n",
    "xt3*5 + xt4*10 + xt5*5 + xt12*10 + xt13*5 + 0 >= 15,\n",
    "xp0*5 + xp1*5 + xp2*5 + xp6*5 + xp7*5 + xp8*5 + xp9*5 + xp10*5 + xp11*5 + xp13*5 + 0 >= 15,\n",
    "xi0*5 + xi1*5 + xi2*5 + xi3*5 + xi4*10 + xi5*5 + xi6*5 + xi7*5 + xi8*5 + xi9*5 + xi10*5 + xi11*5 + xi12*10 + xi13*5 + 0 >= 10\n",
    "]"
   ]
  },
  {
   "cell_type": "code",
   "execution_count": 14,
   "metadata": {
    "ExecuteTime": {
     "end_time": "2022-03-03T14:15:50.719886Z",
     "start_time": "2022-03-03T14:15:50.716498Z"
    }
   },
   "outputs": [],
   "source": [
    "# constraints.append(xi0 + xi1 + xi2 + xi3 + xi4 + xi5 + xi6 + xi7 + xi8 + xi9 + xi10 + xi11 + xi12 + xi13 <= 3)"
   ]
  },
  {
   "cell_type": "code",
   "execution_count": 15,
   "metadata": {
    "ExecuteTime": {
     "end_time": "2022-03-03T15:40:48.159619Z",
     "start_time": "2022-03-03T15:40:48.143855Z"
    }
   },
   "outputs": [],
   "source": [
    "objective = cp.Minimize((2*(xs0*3.3*5 + xs1*2.3*5 + xs2*2.3*5 + xs3*3.3*5 + xs4*3.3*10 + xs5*1.7*5 + xs6*1.0*5 + xs7*1.0*5 + xs8*1.3*5 + xs9*1.7*5 + xs10*2.3*5 + xs11*2.0*5 + xs12*3.3*10 + xs13*2.3*5 + 0) /(xs0*5 + xs1*5 + xs2*5 + xs3*5 + xs4*10 + xs5*5 + xs6*5 + xs7*5 + xs8*5 + xs9*5 + xs10*5 + xs11*5 + xs12*10 + xs13*5 + 0) + (xt3*3.3*5 + xt4*3.3*10 + xt5*1.7*5 + xt12*3.3*10 + xt13*2.3*5 + 0) /(xt3*5 + xt4*10 + xt5*5 + xt12*10 + xt13*5 + 0) + (xp0*3.3*5 + xp1*2.3*5 + xp2*2.3*5 + xp6*1.0*5 + xp7*1.0*5 + xp8*1.3*5 + xp9*1.7*5 + xp10*2.3*5 + xp11*2.0*5 + xp13*2.3*5 + 0) / (xp0*5 + xp1*5 + xp2*5 + xp6*5 + xp7*5 + xp8*5 + xp9*5 + xp10*5 + xp11*5 + xp13*5 + 0))/4)"
   ]
  },
  {
   "cell_type": "code",
   "execution_count": 16,
   "metadata": {
    "ExecuteTime": {
     "end_time": "2022-03-03T15:40:58.586501Z",
     "start_time": "2022-03-03T15:40:58.582680Z"
    }
   },
   "outputs": [],
   "source": [
    "prob = cp.Problem(objective, constraints)"
   ]
  },
  {
   "cell_type": "code",
   "execution_count": 18,
   "metadata": {
    "ExecuteTime": {
     "end_time": "2022-03-03T15:40:59.052346Z",
     "start_time": "2022-03-03T15:40:59.027403Z"
    }
   },
   "outputs": [
    {
     "ename": "DQCPError",
     "evalue": "The problem is not DQCP.",
     "output_type": "error",
     "traceback": [
      "\u001b[0;31m---------------------------------------------------------------------------\u001b[0m",
      "\u001b[0;31mDQCPError\u001b[0m                                 Traceback (most recent call last)",
      "\u001b[0;32m/tmp/ipykernel_13859/4235230865.py\u001b[0m in \u001b[0;36m<module>\u001b[0;34m\u001b[0m\n\u001b[0;32m----> 1\u001b[0;31m \u001b[0mresult\u001b[0m \u001b[0;34m=\u001b[0m \u001b[0mprob\u001b[0m\u001b[0;34m.\u001b[0m\u001b[0msolve\u001b[0m\u001b[0;34m(\u001b[0m\u001b[0msolver\u001b[0m\u001b[0;34m=\u001b[0m\u001b[0;34m'GUROBI'\u001b[0m\u001b[0;34m,\u001b[0m \u001b[0mqcp\u001b[0m\u001b[0;34m=\u001b[0m\u001b[0;32mTrue\u001b[0m\u001b[0;34m)\u001b[0m\u001b[0;34m\u001b[0m\u001b[0;34m\u001b[0m\u001b[0m\n\u001b[0m",
      "\u001b[0;32m~/anaconda3/envs/web/lib/python3.9/site-packages/cvxpy/problems/problem.py\u001b[0m in \u001b[0;36msolve\u001b[0;34m(self, *args, **kwargs)\u001b[0m\n\u001b[1;32m    479\u001b[0m         \u001b[0;32melse\u001b[0m\u001b[0;34m:\u001b[0m\u001b[0;34m\u001b[0m\u001b[0;34m\u001b[0m\u001b[0m\n\u001b[1;32m    480\u001b[0m             \u001b[0msolve_func\u001b[0m \u001b[0;34m=\u001b[0m \u001b[0mProblem\u001b[0m\u001b[0;34m.\u001b[0m\u001b[0m_solve\u001b[0m\u001b[0;34m\u001b[0m\u001b[0;34m\u001b[0m\u001b[0m\n\u001b[0;32m--> 481\u001b[0;31m         \u001b[0;32mreturn\u001b[0m \u001b[0msolve_func\u001b[0m\u001b[0;34m(\u001b[0m\u001b[0mself\u001b[0m\u001b[0;34m,\u001b[0m \u001b[0;34m*\u001b[0m\u001b[0margs\u001b[0m\u001b[0;34m,\u001b[0m \u001b[0;34m**\u001b[0m\u001b[0mkwargs\u001b[0m\u001b[0;34m)\u001b[0m\u001b[0;34m\u001b[0m\u001b[0;34m\u001b[0m\u001b[0m\n\u001b[0m\u001b[1;32m    482\u001b[0m \u001b[0;34m\u001b[0m\u001b[0m\n\u001b[1;32m    483\u001b[0m     \u001b[0;34m@\u001b[0m\u001b[0mclassmethod\u001b[0m\u001b[0;34m\u001b[0m\u001b[0;34m\u001b[0m\u001b[0m\n",
      "\u001b[0;32m~/anaconda3/envs/web/lib/python3.9/site-packages/cvxpy/problems/problem.py\u001b[0m in \u001b[0;36m_solve\u001b[0;34m(self, solver, warm_start, verbose, gp, qcp, requires_grad, enforce_dpp, ignore_dpp, **kwargs)\u001b[0m\n\u001b[1;32m    984\u001b[0m             \u001b[0;32mif\u001b[0m \u001b[0mqcp\u001b[0m \u001b[0;32mand\u001b[0m \u001b[0;32mnot\u001b[0m \u001b[0mself\u001b[0m\u001b[0;34m.\u001b[0m\u001b[0mis_dcp\u001b[0m\u001b[0;34m(\u001b[0m\u001b[0;34m)\u001b[0m\u001b[0;34m:\u001b[0m\u001b[0;34m\u001b[0m\u001b[0;34m\u001b[0m\u001b[0m\n\u001b[1;32m    985\u001b[0m                 \u001b[0;32mif\u001b[0m \u001b[0;32mnot\u001b[0m \u001b[0mself\u001b[0m\u001b[0;34m.\u001b[0m\u001b[0mis_dqcp\u001b[0m\u001b[0;34m(\u001b[0m\u001b[0;34m)\u001b[0m\u001b[0;34m:\u001b[0m\u001b[0;34m\u001b[0m\u001b[0;34m\u001b[0m\u001b[0m\n\u001b[0;32m--> 986\u001b[0;31m                     \u001b[0;32mraise\u001b[0m \u001b[0merror\u001b[0m\u001b[0;34m.\u001b[0m\u001b[0mDQCPError\u001b[0m\u001b[0;34m(\u001b[0m\u001b[0;34m\"The problem is not DQCP.\"\u001b[0m\u001b[0;34m)\u001b[0m\u001b[0;34m\u001b[0m\u001b[0;34m\u001b[0m\u001b[0m\n\u001b[0m\u001b[1;32m    987\u001b[0m                 \u001b[0;32mif\u001b[0m \u001b[0mverbose\u001b[0m\u001b[0;34m:\u001b[0m\u001b[0;34m\u001b[0m\u001b[0;34m\u001b[0m\u001b[0m\n\u001b[1;32m    988\u001b[0m                     s.LOGGER.info(\n",
      "\u001b[0;31mDQCPError\u001b[0m: The problem is not DQCP."
     ]
    }
   ],
   "source": [
    "result = prob.solve(solver='GUROBI', qcp=True)"
   ]
  },
  {
   "cell_type": "code",
   "execution_count": 25,
   "metadata": {
    "ExecuteTime": {
     "end_time": "2022-03-03T14:15:53.155763Z",
     "start_time": "2022-03-03T14:15:53.144112Z"
    }
   },
   "outputs": [
    {
     "name": "stdout",
     "output_type": "stream",
     "text": [
      "\t sch\tind\tthe\tprak\n",
      "Fach: 1: 0.0\t1.0\t0\t0.0\n",
      "Fach: 2: 0.0\t0.0\t0\t1.0\n",
      "Fach: 3: 0.0\t0.0\t0\t1.0\n",
      "Fach: 4: 0.0\t1.0\t0.0\t0\n",
      "Fach: 5: 0.0\t1.0\t0.0\t0\n",
      "Fach: 6: 1.0\t0.0\t0.0\t0\n",
      "Fach: 7: 1.0\t0.0\t0\t0.0\n",
      "Fach: 8: 1.0\t0.0\t0\t0.0\n",
      "Fach: 9: 1.0\t0.0\t0\t0.0\n",
      "Fach: 10: 1.0\t0.0\t0\t0.0\n",
      "Fach: 11: 0.0\t0.0\t0\t1.0\n",
      "Fach: 12: 1.0\t0.0\t0\t0.0\n",
      "Fach: 13: 0.0\t0.0\t1.0\t0\n",
      "Fach: 14: 0.0\t0.0\t1.0\t0.0\n"
     ]
    }
   ],
   "source": [
    "print('\\t sch\\tind\\tthe\\tprak')\n",
    "for i in range(len(cps)):\n",
    "    print('Fach:', i+1, end=': ')\n",
    "    eval(f'print(xs{i}.value[0], end=\"\\t\")')    \n",
    "    eval(f'print(xi{i}.value[0], end=\"\\t\")')  \n",
    "    if i in theo:\n",
    "        eval(f'print(xt{i}.value[0], end=\"\\t\")')\n",
    "    else:\n",
    "        print(0, end='\\t')\n",
    "    if i in prakt:\n",
    "        eval(f'print(xp{i}.value[0], end=\"\")')    \n",
    "    else:\n",
    "        print(0, end='')\n",
    "    print()"
   ]
  },
  {
   "cell_type": "code",
   "execution_count": 26,
   "metadata": {
    "ExecuteTime": {
     "end_time": "2022-03-03T14:15:59.162797Z",
     "start_time": "2022-03-03T14:15:59.159963Z"
    }
   },
   "outputs": [
    {
     "name": "stdout",
     "output_type": "stream",
     "text": [
      "166.0\n"
     ]
    }
   ],
   "source": [
    "print(prob.value)"
   ]
  },
  {
   "cell_type": "code",
   "execution_count": 27,
   "metadata": {
    "ExecuteTime": {
     "end_time": "2022-03-03T14:21:43.690909Z",
     "start_time": "2022-03-03T14:21:43.684043Z"
    }
   },
   "outputs": [
    {
     "name": "stdout",
     "output_type": "stream",
     "text": [
      "Individuell:  3.0\n",
      "Schwerpunkt:  6.0\n",
      "Theo:  2.0\n",
      "Prakt:  3.0\n"
     ]
    }
   ],
   "source": [
    "ind_sum = sum([eval(f'xi{i}.value[0]') for i in range(len(cps))])\n",
    "schwer_sum = sum([eval(f'xs{i}.value[0]') for i in range(len(cps))])\n",
    "prakt_sum = sum([eval(f'xp{i}.value[0]') for i in range(len(cps)) if i in prakt])\n",
    "theo_sum = sum([eval(f'xt{i}.value[0]') for i in range(len(cps)) if i in theo])\n",
    "print('Individuell: ', ind_sum)\n",
    "print('Schwerpunkt: ', schwer_sum)\n",
    "print('Theo: ', theo_sum)\n",
    "print('Prakt: ', prakt_sum)\n",
    "# eval(f'print(xi{i}.value[0], end=\"\\t\")')  \n",
    "# if i in theo:\n",
    "#     eval(f'print(xt{i}.value[0], end=\"\\t\")')\n",
    "# else:\n",
    "#     print(0, end='\\t')\n",
    "# if i in prakt:\n",
    "#     eval(f'print(xp{i}.value[0], end=\"\")')    "
   ]
  },
  {
   "cell_type": "code",
   "execution_count": 19,
   "metadata": {
    "ExecuteTime": {
     "end_time": "2022-03-03T14:22:28.930064Z",
     "start_time": "2022-03-03T14:22:28.922028Z"
    }
   },
   "outputs": [
    {
     "name": "stdout",
     "output_type": "stream",
     "text": [
      "1.45\n",
      "2.3\n",
      "2.966666666666667\n"
     ]
    }
   ],
   "source": [
    "schwer_mean = sum([eval(f'xs{i}.value[0]')*cps[i]*w[i] for i in range(len(cps))])/sum([eval(f'xs{i}.value[0]')*cps[i] for i in range(len(cps))])\n",
    "prakt_mean = sum([eval(f'xp{i}.value[0]')*cps[i]*w[i] for i in range(len(cps)) if i in prakt]) / sum([eval(f'xp{i}.value[0]')*cps[i] for i in range(len(cps)) if i in prakt])\n",
    "theo_mean = sum([eval(f'xt{i}.value[0]')*cps[i]*w[i] for i in range(len(cps)) if i in theo]) / sum([eval(f'xt{i}.value[0]')*cps[i] for i in range(len(cps)) if i in theo])\n",
    "print(schwer_mean)\n",
    "print(prakt_mean)\n",
    "print(theo_mean)"
   ]
  },
  {
   "cell_type": "code",
   "execution_count": 20,
   "metadata": {
    "ExecuteTime": {
     "end_time": "2022-03-03T14:29:04.716166Z",
     "start_time": "2022-03-03T14:29:04.705054Z"
    }
   },
   "outputs": [
    {
     "data": {
      "text/plain": [
       "2.0416666666666665"
      ]
     },
     "execution_count": 20,
     "metadata": {},
     "output_type": "execute_result"
    }
   ],
   "source": [
    "# objective.value/(2*schwer_sum+prakt_sum+theo_sum)\n",
    "(schwer_mean*2+prakt_mean+theo_mean)/4"
   ]
  },
  {
   "cell_type": "code",
   "execution_count": 62,
   "metadata": {
    "ExecuteTime": {
     "end_time": "2022-03-03T14:55:01.408593Z",
     "start_time": "2022-03-03T14:55:00.914807Z"
    }
   },
   "outputs": [],
   "source": [
    "from numba import jit\n",
    "@jit\n",
    "def uni_schnitt(x, *params):\n",
    "    xi0, xi1, xi2, xi3, xi4, xi5, xi6, xi7, xi8, xi9, xi10, xi11, xi12, xi13, \\\n",
    "    xs0, xs1, xs2, xs3, xs4, xs5, xs6, xs7, xs8, xs9, xs10, xs11, xs12, xs13, \\\n",
    "    xp0, xp1, xp2, xp6, xp7, xp8, xp9, xp10, xp11, xp13, \\\n",
    "    xt3, xt4, xt5, xt12, xt13 = x\n",
    "    c, n = params\n",
    "    return (2*(sum([ xs0*c[0]*n[0], xs1*c[1]*n[1], xs2*c[2]*n[2], xs3*c[3]*n[3], xs4*c[4]*n[4], xs5*c[5]*n[5], xs6*c[6]*n[6], xs7*c[7]*n[7], xs8*c[8]*n[8], xs9*c[9]*n[9], xs10*c[10]*n[10], xs11*c[11]*n[11], xs12*c[12]*n[12], xs13*c[13]*n[13] ]) /sum([ xs0*c[0], xs1*c[1], xs2*c[2], xs3*c[3], xs4*c[4], xs5*c[5], xs6*c[6], xs7*c[7], xs8*c[8], xs9*c[9], xs10*c[10], xs11*c[11], xs12*c[12], xs13*c[13] ])) +\\\n",
    "(sum([ xp0*c[0]*n[0], xp1*c[1]*n[1], xp2*c[2]*n[2], xp6*c[6]*n[6], xp7*c[7]*n[7], xp8*c[8]*n[8], xp9*c[9]*n[9], xp10*c[10]*n[10], xp11*c[11]*n[11], xp13*c[13]*n[13] ]) /sum([ xp0*c[0], xp1*c[1], xp2*c[2], xp6*c[6], xp7*c[7], xp8*c[8], xp9*c[9], xp10*c[10], xp11*c[11], xp13*c[13] ])) +\\\n",
    "(sum([ xt3*c[3]*n[3], xt4*c[4]*n[4], xt5*c[5]*n[5], xt12*c[12]*n[12], xt13*c[13]*n[13] ]) /sum([ xt3*c[3], xt4*c[4], xt5*c[5], xt12*c[12], xt13*c[13] ])))/4"
   ]
  },
  {
   "cell_type": "code",
   "execution_count": 38,
   "metadata": {
    "ExecuteTime": {
     "end_time": "2022-03-03T14:36:02.453319Z",
     "start_time": "2022-03-03T14:36:02.447137Z"
    }
   },
   "outputs": [
    {
     "name": "stdout",
     "output_type": "stream",
     "text": [
      "xi0, xi1, xi2, xi3, xi4, xi5, xi6, xi7, xi8, xi9, xi10, xi11, xi12, xi13\n",
      "xs0, xs1, xs2, xs3, xs4, xs5, xs6, xs7, xs8, xs9, xs10, xs11, xs12, xs13\n",
      "xp0, xp1, xp2, xp6, xp7, xp8, xp9, xp10, xp11, xp13\n",
      "xt3, xt4, xt5, xt12, xt13\n"
     ]
    }
   ],
   "source": [
    "print(', '.join([f'xi{i}' for i in range(len(cps))]))\n",
    "print(', '.join([f'xs{i}' for i in range(len(cps))]))\n",
    "print(', '.join([f'xp{i}' for i in range(len(cps)) if i in prakt]))\n",
    "print(', '.join([f'xt{i}' for i in range(len(cps)) if i in theo]))"
   ]
  },
  {
   "cell_type": "code",
   "execution_count": 42,
   "metadata": {
    "ExecuteTime": {
     "end_time": "2022-03-03T14:38:15.940898Z",
     "start_time": "2022-03-03T14:38:15.937648Z"
    }
   },
   "outputs": [
    {
     "data": {
      "text/plain": [
       "0.0"
      ]
     },
     "execution_count": 42,
     "metadata": {},
     "output_type": "execute_result"
    }
   ],
   "source": [
    "uni_schnitt(np.zeros(43), None)"
   ]
  },
  {
   "cell_type": "code",
   "execution_count": 54,
   "metadata": {
    "ExecuteTime": {
     "end_time": "2022-03-03T14:50:36.326910Z",
     "start_time": "2022-03-03T14:50:36.319478Z"
    }
   },
   "outputs": [
    {
     "name": "stdout",
     "output_type": "stream",
     "text": [
      "(sum([ xs0*c[0]*n[0], xs1*c[1]*n[1], xs2*c[2]*n[2], xs3*c[3]*n[3], xs4*c[4]*n[4], xs5*c[5]*n[5], xs6*c[6]*n[6], xs7*c[7]*n[7], xs8*c[8]*n[8], xs9*c[9]*n[9], xs10*c[10]*n[10], xs11*c[11]*n[11], xs12*c[12]*n[12], xs13*c[13]*n[13] ]) /sum([ xs0*c[0], xs1*c[1], xs2*c[2], xs3*c[3], xs4*c[4], xs5*c[5], xs6*c[6], xs7*c[7], xs8*c[8], xs9*c[9], xs10*c[10], xs11*c[11], xs12*c[12], xs13*c[13] ]))\n",
      "(sum([ xp0*c[0]*n[0], xp1*c[1]*n[1], xp2*c[2]*n[2], xp6*c[6]*n[6], xp7*c[7]*n[7], xp8*c[8]*n[8], xp9*c[9]*n[9], xp10*c[10]*n[10], xp11*c[11]*n[11], xp13*c[13]*n[13] ]) /sum([ xp0*c[0], xp1*c[1], xp2*c[2], xp6*c[6], xp7*c[7], xp8*c[8], xp9*c[9], xp10*c[10], xp11*c[11], xp13*c[13] ]))\n",
      "(sum([ xt3*c[3]*n[3], xt4*c[4]*n[4], xt5*c[5]*n[5], xt12*c[12]*n[12], xt13*c[13]*n[13] ]) /sum([ xt3*c[3], xt4*c[4], xt5*c[5], xt12*c[12], xt13*c[13] ]))\n"
     ]
    }
   ],
   "source": [
    "print('(sum([', ', '.join([f'xs{i}*c[{i}]*n[{i}]' for i in range(len(cps))]), '])', '/sum([', ', '.join([f'xs{i}*c[{i}]' for i in range(len(cps))]), ']))')\n",
    "print('(sum([', ', '.join([f'xp{i}*c[{i}]*n[{i}]' for i in range(len(cps)) if i in prakt]), '])', '/sum([', ', '.join([f'xp{i}*c[{i}]' for i in range(len(cps)) if i in prakt]), ']))')\n",
    "print('(sum([', ', '.join([f'xt{i}*c[{i}]*n[{i}]' for i in range(len(cps)) if i in theo]), '])', '/sum([', ', '.join([f'xt{i}*c[{i}]' for i in range(len(cps)) if i in theo]), ']))')"
   ]
  },
  {
   "cell_type": "code",
   "execution_count": 59,
   "metadata": {
    "ExecuteTime": {
     "end_time": "2022-03-03T14:54:01.199560Z",
     "start_time": "2022-03-03T14:54:01.196041Z"
    }
   },
   "outputs": [
    {
     "data": {
      "text/plain": [
       "2.397767857142857"
      ]
     },
     "execution_count": 59,
     "metadata": {},
     "output_type": "execute_result"
    }
   ],
   "source": [
    "uni_schnitt(np.ones(43), cps, w)"
   ]
  },
  {
   "cell_type": "code",
   "execution_count": 60,
   "metadata": {
    "ExecuteTime": {
     "end_time": "2022-03-03T14:54:08.406120Z",
     "start_time": "2022-03-03T14:54:08.403946Z"
    }
   },
   "outputs": [],
   "source": [
    "import scipy"
   ]
  },
  {
   "cell_type": "code",
   "execution_count": 21,
   "metadata": {},
   "outputs": [
    {
     "name": "stdout",
     "output_type": "stream",
     "text": [
      "for i0 in [0,2,3]: #Bio\n",
      "  x[0]=i0\n",
      "  xbool[i0,0]=True\n",
      "  for i1 in [0,2,3]: #Fuzzy\n",
      "    x[1]=i1\n",
      "    xbool[i1,1]=True\n",
      "    for i2 in [0,2,3]: #Geoinfo\n",
      "      x[2]=i2\n",
      "      xbool[i2,2]=True\n",
      "      for i3 in [0,1,3]: #Causality\n",
      "        x[3]=i3\n",
      "        xbool[i3,3]=True\n",
      "        for i4 in [0,1,3]: #GraphenII\n",
      "          x[4]=i4\n",
      "          xbool[i4,4]=True\n",
      "          for i5 in [0,1,3]: #NP-Graphen\n",
      "            x[5]=i5\n",
      "            xbool[i5,5]=True\n",
      "            for i6 in [0,2,3]: #InforTheo\n",
      "              x[6]=i6\n",
      "              xbool[i6,6]=True\n",
      "              for i7 in [0,2,3]: #Multimedia\n",
      "                x[7]=i7\n",
      "                xbool[i7,7]=True\n",
      "                for i8 in [0,2,3]: #MachineLearning\n",
      "                  x[8]=i8\n",
      "                  xbool[i8,8]=True\n",
      "                  for i9 in [0,2,3]: # Linop\n",
      "                    x[9]=i9\n",
      "                    xbool[i9,9]=True\n",
      "                    for i10 in [0,2,3]: #Deep Learning\n",
      "                      x[10]=i10\n",
      "                      xbool[i10,10]=True\n",
      "                      for i11 in [0,2,3]: #Advances Data\n",
      "                        x[11]=i11\n",
      "                        xbool[i11,11]=True\n",
      "                        for i12 in [0,1,3]: #GerechteAufteilung\n",
      "                          x[12]=i12\n",
      "                          xbool[i12,12]=True\n",
      "                          for i13 in range(4): #ReinforcementLearning\n",
      "                            x[13]=i13\n",
      "                            xbool[i13,13]=True\n",
      "                            xbool[i13,13]=False\n",
      "                          xbool[i12,12]=False\n",
      "                        xbool[i11,11]=False\n",
      "                      xbool[i10,10]=False\n",
      "                    xbool[i9,9]=False\n",
      "                  xbool[i8,8]=False\n",
      "                xbool[i7,7]=False\n",
      "              xbool[i6,6]=False\n",
      "            xbool[i5,5]=False\n",
      "          xbool[i4,4]=False\n",
      "        xbool[i3,3]=False\n",
      "      xbool[i2,2]=False\n",
      "    xbool[i1,1]=False\n",
      "  xbool[i0,0]=False\n"
     ]
    }
   ],
   "source": [
    "def rec_print(i):\n",
    "    if i in theo and i in prakt:\n",
    "        print(\"\".join([\"  \"]*i)+f\"for i{i} in range(4): #{faecher[i]}\")\n",
    "    elif i in theo:\n",
    "        print(\"\".join([\"  \"]*i)+f\"for i{i} in [0,1,3]: #{faecher[i]}\")\n",
    "    elif i in prakt:\n",
    "        print(\"\".join([\"  \"]*i)+f\"for i{i} in [0,2,3]: #{faecher[i]}\")\n",
    "    else:\n",
    "        print(\"\".join([\"  \"]*i)+f\"for i{i} in [0,3]: #{faecher[i]}\")\n",
    "    print(\"\".join([\"  \"]*(i+1))+f\"x[{i}]=i{i}\")\n",
    "    print(\"\".join([\"  \"]*(i+1))+f\"xbool[i{i},{i}]=True\")\n",
    "    if i<13:\n",
    "        rec_print(i+1)\n",
    "    print(\"\".join([\"  \"]*(i+1))+f\"xbool[i{i},{i}]=False\")\n",
    "rec_print(0)"
   ]
  },
  {
   "cell_type": "code",
   "execution_count": 20,
   "metadata": {},
   "outputs": [],
   "source": [
    "x = np.zeros((4, len(w)), dtype=bool)\n",
    "#scipy.optimize.brute(unischnitt2, [slice(0, 4, 1)]*14, args=[x, cps, w])\n",
    "\n",
    "from numba import njit\n",
    "@njit\n",
    "def unischnitt2(x, wt, cpt, theo, prakt):\n",
    "#     for i in theo:\n",
    "#         if xt[i]==1:\n",
    "#             return np.inf\n",
    "#     for i in prakt:\n",
    "#         if xt[i]==2:\n",
    "#             return np.inf\n",
    "    if np.sum(x[0, :]*cpt) < 30: #sch\n",
    "        return np.inf\n",
    "    if np.sum(x[1, :]*cpt) < 15: #theo\n",
    "        return np.inf\n",
    "    if np.sum(x[2, :]*cpt) < 15: #prakt\n",
    "        return np.inf\n",
    "    if np.sum(x[3, :]*cpt) < 10: #inf\n",
    "        return np.inf\n",
    "    if np.sum(x*cpt) < 70: #gesamt\n",
    "        return np.inf\n",
    "    \n",
    "    res = (2*np.sum(x[0]*wt*cpt)/np.sum(x[0]*cpt) + np.sum(x[1]*wt*cpt)/np.sum(x[1]*cpt) + np.sum(x[2]*wt*cpt)/np.sum(x[2]*cpt))/4\n",
    "\n",
    "    return res\n",
    "    \n",
    "\n",
    "#@njit\n",
    "def run(w, cps, theo, prakt, xbool, x):\n",
    "    mini = np.inf\n",
    "    for i0 in [0,2,3]: #Bio\n",
    "      x[0]=i0\n",
    "      xbool[i0,0]=True\n",
    "      for i1 in [0,2,3]: #Fuzzy\n",
    "        x[1]=i1\n",
    "        xbool[i1,1]=True\n",
    "        for i2 in [0,2,3]: #Geoinfo\n",
    "          x[2]=i2\n",
    "          xbool[i2,2]=True\n",
    "          for i3 in [0,1,3]: #Causality\n",
    "            x[3]=i3\n",
    "            xbool[i3,3]=True\n",
    "            for i4 in [0,1,3]: #GraphenII\n",
    "              x[4]=i4\n",
    "              xbool[i4,4]=True\n",
    "              for i5 in [0,1,3]: #NP-Graphen\n",
    "                x[5]=i5\n",
    "                xbool[i5,5]=True\n",
    "                for i6 in [0,2,3]: #InforTheo\n",
    "                  x[6]=i6\n",
    "                  xbool[i6,6]=True\n",
    "                  for i7 in [0,2,3]: #Multimedia\n",
    "                    x[7]=i7\n",
    "                    xbool[i7,7]=True\n",
    "                    for i8 in [0,2,3]: #MachineLearning\n",
    "                      x[8]=i8\n",
    "                      xbool[i8,8]=True\n",
    "                      for i9 in [0,2,3]: # Linop\n",
    "                        x[9]=i9\n",
    "                        xbool[i9,9]=True\n",
    "                        for i10 in [0,2,3]: #Deep Learning\n",
    "                          x[10]=i10\n",
    "                          xbool[i10,10]=True\n",
    "                          for i11 in [0,2,3]: #Advances Data\n",
    "                            x[11]=i11\n",
    "                            xbool[i11,11]=True\n",
    "                            for i12 in [0,1,3]: #GerechteAufteilung\n",
    "                              x[12]=i12\n",
    "                              xbool[i12,12]=True\n",
    "                              for i13 in range(4): #ReinforcementLearning\n",
    "                                x[13]=i13\n",
    "                                xbool[i13,13]=True\n",
    "                                res = unischnitt2(xbool, w, cps, theo, prakt)\n",
    "                                if res<np.inf and res<=mini:\n",
    "                                    print(res, x)\n",
    "                                    mini=res\n",
    "                                xbool[i13,13]=False\n",
    "                              xbool[i12,12]=False\n",
    "                            xbool[i11,11]=False\n",
    "                          xbool[i10,10]=False\n",
    "                        xbool[i9,9]=False\n",
    "                      xbool[i8,8]=False\n",
    "                    xbool[i7,7]=False\n",
    "                  xbool[i6,6]=False\n",
    "                xbool[i5,5]=False\n",
    "              xbool[i4,4]=False\n",
    "            xbool[i3,3]=False\n",
    "          xbool[i2,2]=False\n",
    "        xbool[i1,1]=False\n",
    "      xbool[i0,0]=False\n",
    "                                \n",
    "                                \n",
    "\n"
   ]
  },
  {
   "cell_type": "code",
   "execution_count": 22,
   "metadata": {},
   "outputs": [
    {
     "name": "stdout",
     "output_type": "stream",
     "text": [
      "2.35625 [0 0 0 0 0 0 0 2 2 2 3 3 1 1]\n",
      "2.35625 [0 0 0 0 0 0 2 0 2 2 3 3 1 1]\n",
      "2.3500000000000005 [0 0 0 0 0 0 2 2 0 2 3 3 1 1]\n",
      "2.3416666666666663 [0 0 0 0 0 0 2 2 2 0 3 3 1 1]\n",
      "2.3395833333333336 [0 0 0 0 0 1 0 2 0 2 3 2 1 3]\n",
      "2.33125 [0 0 0 0 0 1 0 2 2 0 3 2 1 3]\n",
      "2.325 [0 0 0 0 0 1 0 2 2 2 3 0 1 3]\n",
      "2.325 [0 0 0 0 0 1 2 0 2 2 3 0 1 3]\n",
      "2.325 [0 0 0 0 0 1 2 2 0 0 3 2 1 3]\n",
      "2.3187500000000005 [0 0 0 0 0 1 2 2 0 2 3 0 1 3]\n",
      "2.3104166666666663 [0 0 0 0 0 1 2 2 2 0 3 0 1 3]\n",
      "2.2541666666666664 [0 0 0 0 1 0 0 0 0 2 2 2 3 1]\n",
      "2.2458333333333336 [0 0 0 0 1 0 0 0 2 0 2 2 3 1]\n",
      "2.2333333333333334 [0 0 0 0 1 0 0 0 2 2 0 2 3 1]\n",
      "2.2226190476190477 [0 0 0 0 1 0 0 0 2 2 3 2 3 1]\n",
      "2.219047619047619 [0 0 0 0 1 0 0 2 0 2 3 2 3 1]\n",
      "2.21875 [0 0 0 0 1 0 0 2 2 0 0 2 3 1]\n",
      "2.2142857142857144 [0 0 0 0 1 0 0 2 2 0 3 2 3 1]\n",
      "2.2125 [0 0 0 0 1 0 0 2 2 2 0 0 3 1]\n",
      "2.210714285714286 [0 0 0 0 1 0 0 2 2 2 3 0 3 1]\n",
      "2.210714285714286 [0 0 0 0 1 0 2 0 2 2 3 0 3 1]\n",
      "2.210714285714286 [0 0 0 0 1 0 2 2 0 0 3 2 3 1]\n",
      "2.20625 [0 0 0 0 1 0 2 2 0 2 0 0 3 1]\n",
      "2.1979166666666665 [0 0 0 0 1 0 2 2 2 0 0 0 3 1]\n",
      "2.193452380952381 [0 0 0 0 1 1 0 0 2 0 2 2 3 1]\n",
      "2.186309523809524 [0 0 0 0 1 1 0 0 2 2 0 2 3 1]\n",
      "2.1791666666666667 [0 0 0 0 1 1 0 0 2 2 3 2 3 1]\n",
      "2.1791666666666667 [0 0 0 0 1 1 0 2 0 2 3 2 3 1]\n",
      "2.1779761904761905 [0 0 0 0 1 1 0 2 2 0 0 2 3 1]\n",
      "2.174404761904762 [0 0 0 0 1 1 0 2 2 2 0 0 3 1]\n",
      "2.174404761904762 [0 0 0 0 1 1 2 0 2 2 0 0 3 1]\n",
      "2.174404761904762 [0 0 0 0 1 1 2 2 0 0 0 2 3 1]\n",
      "2.1708333333333334 [0 0 0 0 1 1 2 2 0 2 0 0 3 1]\n",
      "2.1660714285714286 [0 0 0 0 1 1 2 2 2 0 0 0 3 1]\n",
      "2.1660714285714286 [0 0 0 0 3 1 2 2 2 0 0 0 1 1]\n",
      "2.1645833333333333 [0 0 0 1 0 1 2 2 2 0 0 0 3 1]\n",
      "2.145833333333333 [0 0 0 1 1 0 0 0 2 2 3 2 3 1]\n",
      "2.145833333333333 [0 0 0 1 1 0 0 2 2 0 3 2 3 1]\n",
      "2.145833333333333 [0 0 0 1 1 0 2 0 2 0 3 2 3 1]\n",
      "2.145833333333333 [0 0 0 1 1 0 2 2 0 2 3 0 3 1]\n",
      "2.1283333333333334 [0 0 0 1 1 1 0 0 0 2 2 2 3 1]\n",
      "2.1283333333333334 [0 0 0 1 1 1 0 0 2 0 2 2 3 1]\n",
      "2.128333333333333 [0 0 0 1 1 1 0 0 2 2 0 2 3 1]\n",
      "2.128333333333333 [0 0 0 1 1 1 0 0 2 2 2 0 3 1]\n",
      "2.128333333333333 [0 0 0 1 1 1 0 2 0 0 2 2 3 1]\n",
      "2.128333333333333 [0 0 0 1 1 1 0 2 0 2 2 0 3 1]\n",
      "2.128333333333333 [0 0 0 1 1 1 2 0 0 0 2 2 3 1]\n",
      "2.128333333333333 [0 0 0 1 1 1 2 0 0 2 2 0 3 1]\n",
      "2.128333333333333 [0 0 0 1 1 1 2 2 0 2 0 0 3 1]\n",
      "2.0416666666666665 [0 0 0 1 3 1 0 0 0 2 2 2 3 1]\n",
      "2.0416666666666665 [0 0 0 1 3 1 0 0 2 0 2 2 3 1]\n",
      "2.0416666666666665 [0 0 0 1 3 1 0 0 2 2 0 2 3 1]\n",
      "2.0416666666666665 [0 0 0 1 3 1 0 2 0 2 0 2 3 1]\n",
      "2.0416666666666665 [0 0 0 1 3 1 0 2 0 2 2 0 3 1]\n",
      "2.0416666666666665 [0 0 0 1 3 1 0 2 2 0 0 2 3 1]\n",
      "2.0416666666666665 [0 0 0 1 3 1 0 2 2 0 2 0 3 1]\n",
      "2.0416666666666665 [0 0 0 1 3 1 2 0 0 2 0 2 3 1]\n",
      "2.0416666666666665 [0 0 0 1 3 1 2 0 0 2 2 0 3 1]\n",
      "2.0416666666666665 [0 0 0 1 3 1 2 0 2 0 0 2 3 1]\n",
      "2.0416666666666665 [0 0 0 1 3 1 2 0 2 0 2 0 3 1]\n",
      "2.0416666666666665 [0 0 0 1 3 1 2 2 0 0 2 0 3 1]\n",
      "2.0416666666666665 [0 0 0 1 3 1 2 2 2 0 0 0 3 1]\n",
      "2.0416666666666665 [0 0 2 1 3 1 0 0 0 2 0 2 3 1]\n",
      "2.0416666666666665 [0 0 2 1 3 1 0 0 0 2 2 0 3 1]\n",
      "2.0416666666666665 [0 0 2 1 3 1 0 0 2 0 0 2 3 1]\n",
      "2.0416666666666665 [0 0 2 1 3 1 0 0 2 0 2 0 3 1]\n",
      "2.0416666666666665 [0 0 2 1 3 1 0 2 0 0 2 0 3 1]\n",
      "2.0416666666666665 [0 0 2 1 3 1 0 2 0 2 0 0 3 1]\n",
      "2.0416666666666665 [0 0 2 1 3 1 0 2 2 0 0 0 3 1]\n",
      "2.0416666666666665 [0 0 2 1 3 1 2 0 0 0 2 0 3 1]\n",
      "2.0416666666666665 [0 0 2 1 3 1 2 0 0 2 0 0 3 1]\n",
      "2.0416666666666665 [0 0 2 1 3 1 2 0 2 0 0 0 3 1]\n",
      "2.0416666666666665 [0 0 2 1 3 1 2 2 0 0 0 0 3 1]\n",
      "2.0416666666666665 [0 2 0 1 3 1 0 0 0 2 0 2 3 1]\n",
      "2.0416666666666665 [0 2 0 1 3 1 0 0 0 2 2 0 3 1]\n",
      "2.0416666666666665 [0 2 0 1 3 1 0 0 2 0 0 2 3 1]\n",
      "2.0416666666666665 [0 2 0 1 3 1 0 0 2 0 2 0 3 1]\n",
      "2.0416666666666665 [0 2 0 1 3 1 0 2 0 0 2 0 3 1]\n",
      "2.0416666666666665 [0 2 0 1 3 1 0 2 0 2 0 0 3 1]\n",
      "2.0416666666666665 [0 2 0 1 3 1 0 2 2 0 0 0 3 1]\n",
      "2.0416666666666665 [0 2 0 1 3 1 2 0 0 0 2 0 3 1]\n",
      "2.0416666666666665 [0 2 0 1 3 1 2 0 0 2 0 0 3 1]\n",
      "2.0416666666666665 [0 2 0 1 3 1 2 0 2 0 0 0 3 1]\n",
      "2.0416666666666665 [0 2 0 1 3 1 2 2 0 0 0 0 3 1]\n",
      "2.0416666666666665 [0 2 2 1 3 1 0 0 0 0 2 0 3 1]\n",
      "2.0416666666666665 [0 2 2 1 3 1 0 0 0 2 0 0 3 1]\n",
      "2.0416666666666665 [0 2 2 1 3 1 0 0 2 0 0 0 3 1]\n",
      "2.0416666666666665 [0 2 2 1 3 1 0 2 0 0 0 0 3 1]\n",
      "2.0416666666666665 [0 2 2 1 3 1 2 0 0 0 0 0 3 1]\n",
      "2.0416666666666665 [2 0 0 1 3 1 0 0 0 0 2 2 3 1]\n",
      "2.0416666666666665 [2 0 0 1 3 1 0 0 0 2 0 2 3 1]\n",
      "2.0416666666666665 [2 0 0 1 3 1 0 0 0 2 2 0 3 1]\n",
      "2.0416666666666665 [2 0 0 1 3 1 0 0 2 0 2 0 3 1]\n",
      "2.0416666666666665 [2 0 0 1 3 1 0 0 2 2 0 0 3 1]\n",
      "2.0416666666666665 [2 0 0 1 3 1 0 2 0 0 0 2 3 1]\n",
      "2.0416666666666665 [2 0 0 1 3 1 0 2 0 2 0 0 3 1]\n",
      "2.0416666666666665 [2 0 0 1 3 1 0 2 2 0 0 0 3 1]\n",
      "2.0416666666666665 [2 0 0 1 3 1 2 0 0 0 0 2 3 1]\n",
      "2.0416666666666665 [2 0 0 1 3 1 2 0 0 2 0 0 3 1]\n",
      "2.0416666666666665 [2 0 0 1 3 1 2 0 2 0 0 0 3 1]\n",
      "2.0416666666666665 [2 0 2 1 3 1 0 0 0 0 0 2 3 1]\n",
      "2.0416666666666665 [2 0 2 1 3 1 0 0 0 0 2 0 3 1]\n",
      "2.0416666666666665 [2 0 2 1 3 1 0 0 0 2 0 0 3 1]\n",
      "2.0416666666666665 [2 0 2 1 3 1 0 0 2 0 0 0 3 1]\n",
      "2.0416666666666665 [2 2 0 1 3 1 0 0 0 0 0 2 3 1]\n",
      "2.0416666666666665 [2 2 0 1 3 1 0 0 0 0 2 0 3 1]\n",
      "2.0416666666666665 [2 2 0 1 3 1 0 0 0 2 0 0 3 1]\n",
      "2.0416666666666665 [2 2 0 1 3 1 0 0 2 0 0 0 3 1]\n",
      "2.0416666666666665 [2 2 2 1 3 1 0 0 0 0 0 0 3 1]\n",
      "2.0416666666666665 [3 0 0 3 1 0 0 0 2 2 0 2 3 1]\n",
      "2.0416666666666665 [3 0 0 3 1 0 0 2 0 2 0 2 3 1]\n",
      "2.0416666666666665 [3 0 0 3 1 0 0 2 0 2 2 0 3 1]\n",
      "2.0416666666666665 [3 0 0 3 1 0 0 2 2 0 0 2 3 1]\n",
      "2.0416666666666665 [3 0 0 3 1 0 0 2 2 0 2 0 3 1]\n",
      "2.0416666666666665 [3 0 0 3 1 0 2 0 0 2 0 2 3 1]\n",
      "2.0416666666666665 [3 0 0 3 1 0 2 0 0 2 2 0 3 1]\n",
      "2.0416666666666665 [3 0 0 3 1 0 2 0 2 0 0 2 3 1]\n",
      "2.0416666666666665 [3 0 0 3 1 0 2 0 2 0 2 0 3 1]\n",
      "2.0416666666666665 [3 0 0 3 1 0 2 2 0 0 2 0 3 1]\n",
      "2.0416666666666665 [3 0 0 3 1 0 2 2 2 0 0 0 3 1]\n",
      "2.0416666666666665 [3 0 0 3 1 1 0 0 0 2 0 2 3 2]\n",
      "2.0416666666666665 [3 0 0 3 1 1 0 0 0 2 2 0 3 2]\n",
      "2.0416666666666665 [3 0 0 3 1 1 0 0 0 2 2 2 3 0]\n",
      "2.0416666666666665 [3 0 0 3 1 1 0 0 2 0 0 2 3 2]\n",
      "2.0416666666666665 [3 0 0 3 1 1 0 0 2 0 2 0 3 2]\n",
      "2.0416666666666665 [3 0 0 3 1 1 0 0 2 0 2 2 3 0]\n",
      "2.0416666666666665 [3 0 0 3 1 1 0 0 2 2 0 2 3 0]\n",
      "2.0416666666666665 [3 0 0 3 1 1 0 2 0 0 2 0 3 2]\n",
      "2.0416666666666665 [3 0 0 3 1 1 0 2 0 2 0 0 3 2]\n",
      "2.0416666666666665 [3 0 0 3 1 1 0 2 0 2 0 2 3 0]\n",
      "2.0416666666666665 [3 0 0 3 1 1 0 2 0 2 2 0 3 0]\n",
      "2.0416666666666665 [3 0 0 3 1 1 0 2 2 0 0 0 3 2]\n",
      "2.0416666666666665 [3 0 0 3 1 1 0 2 2 0 0 2 3 0]\n",
      "2.0416666666666665 [3 0 0 3 1 1 0 2 2 0 2 0 3 0]\n",
      "2.0416666666666665 [3 0 0 3 1 1 0 2 2 2 0 0 3 0]\n",
      "2.0416666666666665 [3 0 0 3 1 1 2 0 0 0 2 0 3 2]\n",
      "2.0416666666666665 [3 0 0 3 1 1 2 0 0 2 0 0 3 2]\n",
      "2.0416666666666665 [3 0 0 3 1 1 2 0 0 2 0 2 3 0]\n",
      "2.0416666666666665 [3 0 0 3 1 1 2 0 0 2 2 0 3 0]\n",
      "2.0416666666666665 [3 0 0 3 1 1 2 0 2 0 0 0 3 2]\n",
      "2.0416666666666665 [3 0 0 3 1 1 2 0 2 0 0 2 3 0]\n",
      "2.0416666666666665 [3 0 0 3 1 1 2 0 2 0 2 0 3 0]\n",
      "2.0416666666666665 [3 0 0 3 1 1 2 0 2 2 0 0 3 0]\n",
      "2.0416666666666665 [3 0 0 3 1 1 2 2 0 0 0 0 3 2]\n",
      "2.0416666666666665 [3 0 0 3 1 1 2 2 0 0 0 2 3 0]\n",
      "2.0416666666666665 [3 0 0 3 1 1 2 2 0 0 2 0 3 0]\n",
      "2.0416666666666665 [3 0 0 3 1 1 2 2 2 0 0 0 3 0]\n",
      "2.0416666666666665 [3 0 0 3 3 0 0 0 2 2 0 2 1 1]\n",
      "2.0416666666666665 [3 0 0 3 3 0 0 2 0 2 0 2 1 1]\n",
      "2.0416666666666665 [3 0 0 3 3 0 0 2 0 2 2 0 1 1]\n",
      "2.0416666666666665 [3 0 0 3 3 0 0 2 2 0 0 2 1 1]\n",
      "2.0416666666666665 [3 0 0 3 3 0 0 2 2 0 2 0 1 1]\n",
      "2.0416666666666665 [3 0 0 3 3 0 2 0 0 2 0 2 1 1]\n",
      "2.0416666666666665 [3 0 0 3 3 0 2 0 0 2 2 0 1 1]\n",
      "2.0416666666666665 [3 0 0 3 3 0 2 0 2 0 0 2 1 1]\n",
      "2.0416666666666665 [3 0 0 3 3 0 2 0 2 0 2 0 1 1]\n",
      "2.0416666666666665 [3 0 0 3 3 0 2 2 0 0 2 0 1 1]\n",
      "2.0416666666666665 [3 0 0 3 3 0 2 2 2 0 0 0 1 1]\n",
      "2.0416666666666665 [3 0 0 3 3 1 0 0 0 2 0 2 1 2]\n",
      "2.0416666666666665 [3 0 0 3 3 1 0 0 0 2 2 0 1 2]\n",
      "2.0416666666666665 [3 0 0 3 3 1 0 0 0 2 2 2 1 0]\n",
      "2.0416666666666665 [3 0 0 3 3 1 0 0 2 0 0 2 1 2]\n",
      "2.0416666666666665 [3 0 0 3 3 1 0 0 2 0 2 0 1 2]\n",
      "2.0416666666666665 [3 0 0 3 3 1 0 0 2 0 2 2 1 0]\n",
      "2.0416666666666665 [3 0 0 3 3 1 0 0 2 2 0 2 1 0]\n",
      "2.0416666666666665 [3 0 0 3 3 1 0 2 0 0 2 0 1 2]\n",
      "2.0416666666666665 [3 0 0 3 3 1 0 2 0 2 0 0 1 2]\n",
      "2.0416666666666665 [3 0 0 3 3 1 0 2 0 2 0 2 1 0]\n",
      "2.0416666666666665 [3 0 0 3 3 1 0 2 0 2 2 0 1 0]\n",
      "2.0416666666666665 [3 0 0 3 3 1 0 2 2 0 0 0 1 2]\n",
      "2.0416666666666665 [3 0 0 3 3 1 0 2 2 0 0 2 1 0]\n",
      "2.0416666666666665 [3 0 0 3 3 1 0 2 2 0 2 0 1 0]\n",
      "2.0416666666666665 [3 0 0 3 3 1 0 2 2 2 0 0 1 0]\n",
      "2.0416666666666665 [3 0 0 3 3 1 2 0 0 0 2 0 1 2]\n",
      "2.0416666666666665 [3 0 0 3 3 1 2 0 0 2 0 0 1 2]\n",
      "2.0416666666666665 [3 0 0 3 3 1 2 0 0 2 0 2 1 0]\n",
      "2.0416666666666665 [3 0 0 3 3 1 2 0 0 2 2 0 1 0]\n",
      "2.0416666666666665 [3 0 0 3 3 1 2 0 2 0 0 0 1 2]\n",
      "2.0416666666666665 [3 0 0 3 3 1 2 0 2 0 0 2 1 0]\n",
      "2.0416666666666665 [3 0 0 3 3 1 2 0 2 0 2 0 1 0]\n",
      "2.0416666666666665 [3 0 0 3 3 1 2 0 2 2 0 0 1 0]\n",
      "2.0416666666666665 [3 0 0 3 3 1 2 2 0 0 0 0 1 2]\n",
      "2.0416666666666665 [3 0 0 3 3 1 2 2 0 0 0 2 1 0]\n",
      "2.0416666666666665 [3 0 0 3 3 1 2 2 0 0 2 0 1 0]\n",
      "2.0416666666666665 [3 0 0 3 3 1 2 2 2 0 0 0 1 0]\n"
     ]
    },
    {
     "name": "stdout",
     "output_type": "stream",
     "text": [
      "2.0416666666666665 [3 0 2 3 1 0 0 0 0 2 2 0 3 1]\n",
      "2.0416666666666665 [3 0 2 3 1 0 0 0 2 0 2 0 3 1]\n",
      "2.0416666666666665 [3 0 2 3 1 0 0 2 0 2 0 0 3 1]\n",
      "2.0416666666666665 [3 0 2 3 1 0 0 2 2 0 0 0 3 1]\n",
      "2.0416666666666665 [3 0 2 3 1 0 2 0 0 2 0 0 3 1]\n",
      "2.0416666666666665 [3 0 2 3 1 0 2 0 2 0 0 0 3 1]\n",
      "2.0416666666666665 [3 0 2 3 1 0 2 2 0 0 0 0 3 1]\n",
      "2.0416666666666665 [3 0 2 3 1 1 0 0 0 2 0 0 3 2]\n",
      "2.0416666666666665 [3 0 2 3 1 1 0 0 0 2 0 2 3 0]\n",
      "2.0416666666666665 [3 0 2 3 1 1 0 0 0 2 2 0 3 0]\n",
      "2.0416666666666665 [3 0 2 3 1 1 0 0 2 0 0 0 3 2]\n",
      "2.0416666666666665 [3 0 2 3 1 1 0 0 2 0 0 2 3 0]\n",
      "2.0416666666666665 [3 0 2 3 1 1 0 0 2 0 2 0 3 0]\n",
      "2.0416666666666665 [3 0 2 3 1 1 0 2 0 0 0 0 3 2]\n",
      "2.0416666666666665 [3 0 2 3 1 1 0 2 0 0 2 0 3 0]\n",
      "2.0416666666666665 [3 0 2 3 1 1 0 2 0 2 0 0 3 0]\n",
      "2.0416666666666665 [3 0 2 3 1 1 0 2 2 0 0 0 3 0]\n",
      "2.0416666666666665 [3 0 2 3 1 1 2 0 0 0 0 0 3 2]\n",
      "2.0416666666666665 [3 0 2 3 1 1 2 0 0 0 2 0 3 0]\n",
      "2.0416666666666665 [3 0 2 3 1 1 2 0 0 2 0 0 3 0]\n",
      "2.0416666666666665 [3 0 2 3 1 1 2 0 2 0 0 0 3 0]\n",
      "2.0416666666666665 [3 0 2 3 1 1 2 2 0 0 0 0 3 0]\n",
      "2.0416666666666665 [3 0 2 3 3 0 0 0 0 2 2 0 1 1]\n",
      "2.0416666666666665 [3 0 2 3 3 0 0 0 2 0 2 0 1 1]\n",
      "2.0416666666666665 [3 0 2 3 3 0 0 2 0 2 0 0 1 1]\n",
      "2.0416666666666665 [3 0 2 3 3 0 0 2 2 0 0 0 1 1]\n",
      "2.0416666666666665 [3 0 2 3 3 0 2 0 0 2 0 0 1 1]\n",
      "2.0416666666666665 [3 0 2 3 3 0 2 0 2 0 0 0 1 1]\n",
      "2.0416666666666665 [3 0 2 3 3 0 2 2 0 0 0 0 1 1]\n",
      "2.0416666666666665 [3 0 2 3 3 1 0 0 0 2 0 0 1 2]\n",
      "2.0416666666666665 [3 0 2 3 3 1 0 0 0 2 0 2 1 0]\n",
      "2.0416666666666665 [3 0 2 3 3 1 0 0 0 2 2 0 1 0]\n",
      "2.0416666666666665 [3 0 2 3 3 1 0 0 2 0 0 0 1 2]\n",
      "2.0416666666666665 [3 0 2 3 3 1 0 0 2 0 0 2 1 0]\n",
      "2.0416666666666665 [3 0 2 3 3 1 0 0 2 0 2 0 1 0]\n",
      "2.0416666666666665 [3 0 2 3 3 1 0 2 0 0 0 0 1 2]\n",
      "2.0416666666666665 [3 0 2 3 3 1 0 2 0 0 2 0 1 0]\n",
      "2.0416666666666665 [3 0 2 3 3 1 0 2 0 2 0 0 1 0]\n",
      "2.0416666666666665 [3 0 2 3 3 1 0 2 2 0 0 0 1 0]\n",
      "2.0416666666666665 [3 0 2 3 3 1 2 0 0 0 0 0 1 2]\n",
      "2.0416666666666665 [3 0 2 3 3 1 2 0 0 0 2 0 1 0]\n",
      "2.0416666666666665 [3 0 2 3 3 1 2 0 0 2 0 0 1 0]\n",
      "2.0416666666666665 [3 0 2 3 3 1 2 0 2 0 0 0 1 0]\n",
      "2.0416666666666665 [3 0 2 3 3 1 2 2 0 0 0 0 1 0]\n",
      "2.0416666666666665 [3 2 0 3 1 0 0 0 0 2 2 0 3 1]\n",
      "2.0416666666666665 [3 2 0 3 1 0 0 0 2 0 2 0 3 1]\n",
      "2.0416666666666665 [3 2 0 3 1 0 0 2 0 2 0 0 3 1]\n",
      "2.0416666666666665 [3 2 0 3 1 0 0 2 2 0 0 0 3 1]\n",
      "2.0416666666666665 [3 2 0 3 1 0 2 0 0 2 0 0 3 1]\n",
      "2.0416666666666665 [3 2 0 3 1 0 2 0 2 0 0 0 3 1]\n",
      "2.0416666666666665 [3 2 0 3 1 0 2 2 0 0 0 0 3 1]\n",
      "2.0416666666666665 [3 2 0 3 1 1 0 0 0 2 0 0 3 2]\n",
      "2.0416666666666665 [3 2 0 3 1 1 0 0 0 2 0 2 3 0]\n",
      "2.0416666666666665 [3 2 0 3 1 1 0 0 0 2 2 0 3 0]\n",
      "2.0416666666666665 [3 2 0 3 1 1 0 0 2 0 0 0 3 2]\n",
      "2.0416666666666665 [3 2 0 3 1 1 0 0 2 0 0 2 3 0]\n",
      "2.0416666666666665 [3 2 0 3 1 1 0 0 2 0 2 0 3 0]\n",
      "2.0416666666666665 [3 2 0 3 1 1 0 2 0 0 0 0 3 2]\n",
      "2.0416666666666665 [3 2 0 3 1 1 0 2 0 0 2 0 3 0]\n",
      "2.0416666666666665 [3 2 0 3 1 1 0 2 0 2 0 0 3 0]\n",
      "2.0416666666666665 [3 2 0 3 1 1 0 2 2 0 0 0 3 0]\n",
      "2.0416666666666665 [3 2 0 3 1 1 2 0 0 0 0 0 3 2]\n",
      "2.0416666666666665 [3 2 0 3 1 1 2 0 0 0 2 0 3 0]\n",
      "2.0416666666666665 [3 2 0 3 1 1 2 0 0 2 0 0 3 0]\n",
      "2.0416666666666665 [3 2 0 3 1 1 2 0 2 0 0 0 3 0]\n",
      "2.0416666666666665 [3 2 0 3 1 1 2 2 0 0 0 0 3 0]\n",
      "2.0416666666666665 [3 2 0 3 3 0 0 0 0 2 2 0 1 1]\n",
      "2.0416666666666665 [3 2 0 3 3 0 0 0 2 0 2 0 1 1]\n",
      "2.0416666666666665 [3 2 0 3 3 0 0 2 0 2 0 0 1 1]\n",
      "2.0416666666666665 [3 2 0 3 3 0 0 2 2 0 0 0 1 1]\n",
      "2.0416666666666665 [3 2 0 3 3 0 2 0 0 2 0 0 1 1]\n",
      "2.0416666666666665 [3 2 0 3 3 0 2 0 2 0 0 0 1 1]\n",
      "2.0416666666666665 [3 2 0 3 3 0 2 2 0 0 0 0 1 1]\n",
      "2.0416666666666665 [3 2 0 3 3 1 0 0 0 2 0 0 1 2]\n",
      "2.0416666666666665 [3 2 0 3 3 1 0 0 0 2 0 2 1 0]\n",
      "2.0416666666666665 [3 2 0 3 3 1 0 0 0 2 2 0 1 0]\n",
      "2.0416666666666665 [3 2 0 3 3 1 0 0 2 0 0 0 1 2]\n",
      "2.0416666666666665 [3 2 0 3 3 1 0 0 2 0 0 2 1 0]\n",
      "2.0416666666666665 [3 2 0 3 3 1 0 0 2 0 2 0 1 0]\n",
      "2.0416666666666665 [3 2 0 3 3 1 0 2 0 0 0 0 1 2]\n",
      "2.0416666666666665 [3 2 0 3 3 1 0 2 0 0 2 0 1 0]\n",
      "2.0416666666666665 [3 2 0 3 3 1 0 2 0 2 0 0 1 0]\n",
      "2.0416666666666665 [3 2 0 3 3 1 0 2 2 0 0 0 1 0]\n",
      "2.0416666666666665 [3 2 0 3 3 1 2 0 0 0 0 0 1 2]\n",
      "2.0416666666666665 [3 2 0 3 3 1 2 0 0 0 2 0 1 0]\n",
      "2.0416666666666665 [3 2 0 3 3 1 2 0 0 2 0 0 1 0]\n",
      "2.0416666666666665 [3 2 0 3 3 1 2 0 2 0 0 0 1 0]\n",
      "2.0416666666666665 [3 2 0 3 3 1 2 2 0 0 0 0 1 0]\n",
      "2.0416666666666665 [3 2 2 3 1 0 0 0 0 2 0 0 3 1]\n",
      "2.0416666666666665 [3 2 2 3 1 0 0 0 2 0 0 0 3 1]\n",
      "2.0416666666666665 [3 2 2 3 1 1 0 0 0 2 0 0 3 0]\n",
      "2.0416666666666665 [3 2 2 3 1 1 0 0 2 0 0 0 3 0]\n",
      "2.0416666666666665 [3 2 2 3 1 1 0 2 0 0 0 0 3 0]\n",
      "2.0416666666666665 [3 2 2 3 1 1 2 0 0 0 0 0 3 0]\n",
      "2.0416666666666665 [3 2 2 3 3 0 0 0 0 2 0 0 1 1]\n",
      "2.0416666666666665 [3 2 2 3 3 0 0 0 2 0 0 0 1 1]\n",
      "2.0416666666666665 [3 2 2 3 3 1 0 0 0 2 0 0 1 0]\n",
      "2.0416666666666665 [3 2 2 3 3 1 0 0 2 0 0 0 1 0]\n",
      "2.0416666666666665 [3 2 2 3 3 1 0 2 0 0 0 0 1 0]\n",
      "2.0416666666666665 [3 2 2 3 3 1 2 0 0 0 0 0 1 0]\n"
     ]
    }
   ],
   "source": [
    "w = np.array([3.3, 2.3, 2.3, 3.3, 3.3, 1.7, 1., 1., 1.3, 1.7, 2.3, 2.0, 3.3, 2.3])\n",
    "cps = np.array([ 5,   5,  5,    5,  10,   5,  5,  5,   5,   5,   5,   5,  10,   5])\n",
    "theo = np.array([3,4,5,12,13])\n",
    "prakt = np.array([0, 1, 2, 6, 7, 8, 9, 10, 11, 13])\n",
    "faecher = \"Bio,Fuzzy,Geoinfo,Causality,GraphenII,NP-Graphen,InforTheo,Multimedia,MachineLearning, Linop,Deep Learning,Advances Data,GerechteAufteilung,ReinforcementLearning\".split(',')\n",
    "xbool = np.zeros((4, 14), dtype=bool)\n",
    "x = np.zeros(14, dtype=int)\n",
    "run(w, cps, theo, prakt, xbool, x)\n",
    "\n"
   ]
  },
  {
   "cell_type": "code",
   "execution_count": null,
   "metadata": {},
   "outputs": [],
   "source": []
  }
 ],
 "metadata": {
  "kernelspec": {
   "display_name": "Python 3 (ipykernel)",
   "language": "python",
   "name": "python3"
  },
  "language_info": {
   "codemirror_mode": {
    "name": "ipython",
    "version": 3
   },
   "file_extension": ".py",
   "mimetype": "text/x-python",
   "name": "python",
   "nbconvert_exporter": "python",
   "pygments_lexer": "ipython3",
   "version": "3.9.7"
  }
 },
 "nbformat": 4,
 "nbformat_minor": 2
}
